{
 "cells": [
  {
   "cell_type": "markdown",
   "metadata": {},
   "source": [
    "### Github commands\n",
    "\n",
    "```\n",
    "git add -uv    #v, verbose; u, only update tracked files\n",
    "git commit -av\n",
    "```"
   ]
  },
  {
   "cell_type": "markdown",
   "metadata": {},
   "source": [
    "### 2020 Nov 1th\n",
    "\n",
    "Try to organize legacy codes. Organized Util, OfflineInterface, MrRandom, MrIf, MrNN. \n",
    "\n",
    "MrGreed and MrNN_Trainer are still to be read.\n",
    "\n",
    "### 2020 Nov 6th\n",
    "\n",
    "Understaned MrGreed, added detailed comments, tested its ability. Combating with MrIf, N_SAMPLE=20, MrGreed can win $85.26\\pm8.09$.\n",
    "\n",
    "### 2020 Nov 7th\n",
    "\n",
    "Finally realized MrO, a Q-learning AI."
   ]
  },
  {
   "cell_type": "markdown",
   "metadata": {},
   "source": [
    "### 2020 Nov 17th\n",
    "\n",
    "Before alternating sampling algorithm, do the last benchmark for MrGreed. The code at this point is also backuped to github [commit 9e7eb50](https://github.com/Gongzhu-Society/MrIfOffline/commit/9e7eb509badf56fd014a18c896375d17e91e745c). Combat against MrIf with 1024x2 rounds.\n",
    "\n",
    "$N_{sample}$    |5             |10            |20            |40\n",
    ":--------------:|:------------:|:------------:|:------------:|:------------:\n",
    "Points over MrIf|$71.82\\pm5.76$|$75.41\\pm5.55$|$83.73\\pm5.62$|$86.44\\pm5.63$\n",
    "Time Comsumed   |61s           |114s          |218s          |419s\n",
    "\n",
    "Here is the success rate for shot and test method.\n",
    "\n",
    "Success Rate(percent)|#Restriction|#Cards remain\n",
    ":-:|:-:|:-:\n",
    " 6.33|2|18\n",
    "10.64|2|14\n",
    "14.29|3|11\n",
    " 5.62|2|19\n",
    "11.90|5|12\n",
    " 4.03|5| 9\n",
    "\n",
    "Here is a benchmark for shot and test method, with 1024x2 rounds.\n",
    "\n",
    "$N_{sample}$    |5             |10            |20            |40\n",
    ":--------------:|:------------:|:------------:|:------------:|:------------:\n",
    "Points over MrIf|$68.33\\pm5.72$|$82.21\\pm5.73$|$96.32\\pm5.68$|$80.61\\pm5.52$\n",
    "Time Comsumed   |90s           |144s          |300s          |696s"
   ]
  },
  {
   "cell_type": "code",
   "execution_count": 49,
   "metadata": {},
   "outputs": [
    {
     "data": {
      "text/plain": [
       "[3, 4]"
      ]
     },
     "execution_count": 49,
     "metadata": {},
     "output_type": "execute_result"
    }
   ],
   "source": [
    "list(range(3,5))"
   ]
  },
  {
   "cell_type": "code",
   "execution_count": null,
   "metadata": {},
   "outputs": [],
   "source": []
  }
 ],
 "metadata": {
  "kernelspec": {
   "display_name": "Python 3",
   "language": "python",
   "name": "python3"
  },
  "language_info": {
   "codemirror_mode": {
    "name": "ipython",
    "version": 3
   },
   "file_extension": ".py",
   "mimetype": "text/x-python",
   "name": "python",
   "nbconvert_exporter": "python",
   "pygments_lexer": "ipython3",
   "version": "3.6.9"
  }
 },
 "nbformat": 4,
 "nbformat_minor": 2
}
