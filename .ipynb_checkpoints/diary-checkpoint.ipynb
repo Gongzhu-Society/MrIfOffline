{
 "cells": [
  {
   "cell_type": "markdown",
   "metadata": {},
   "source": [
    "### Github commands\n",
    "\n",
    "```\n",
    "git add -uv    #v, verbose; u, only update tracked files\n",
    "git commit -av\n",
    "```"
   ]
  },
  {
   "cell_type": "markdown",
   "metadata": {},
   "source": [
    "### 2020 Nov 1th\n",
    "\n",
    "Try to organize legacy codes. Organized Util, OfflineInterface, MrRandom, MrIf, MrNN. \n",
    "\n",
    "MrGreed and MrNN_Trainer are still to be read.\n",
    "\n",
    "### 2020 Nov 6th\n",
    "\n",
    "Understaned MrGreed, added detailed comments, tested its ability. Combating with MrIf, N_SAMPLE=20, MrGreed can win $85.26\\pm8.09$.\n",
    "\n",
    "### 2020 Nov 7th\n",
    "\n",
    "Finally realized MrO, a Q-learning AI."
   ]
  },
  {
   "cell_type": "markdown",
   "metadata": {},
   "source": [
    "### 2020 Nov 17th\n",
    "\n",
    "Before alternating sampling algorithm, do the last benchmark for MrGreed. The code at this point is also backuped to github [commit 9e7eb50](https://github.com/Gongzhu-Society/MrIfOffline/commit/9e7eb509badf56fd014a18c896375d17e91e745c). Combat against MrIf with 1024x2 rounds.\n",
    "\n",
    "$N_{sample}$    |5             |10            |20            |40\n",
    ":--------------:|:------------:|:------------:|:------------:|:------------:\n",
    "Points over MrIf|$71.82\\pm5.76$|$75.41\\pm5.55$|$83.73\\pm5.62$|$86.44\\pm5.63$\n",
    "Time Comsumed   |61s           |114s          |218s          |419s\n",
    "\n",
    "Here is the success rate for shot and test method.\n",
    "\n",
    "Success Rate(percent)|#Restriction|#Cards remain\n",
    ":-:|:-:|:-:\n",
    " 6.33|2|18\n",
    "10.64|2|14\n",
    "14.29|3|11\n",
    " 5.62|2|19\n",
    "11.90|5|12\n",
    " 4.03|5| 9\n",
    "\n",
    "Here is a benchmark for shot and test method, with 1024x2 rounds.\n",
    "\n",
    "$N_{sample}$    |5             |10            |20            |40\n",
    ":--------------:|:------------:|:------------:|:------------:|:------------:\n",
    "Points over MrIf|$68.33\\pm5.72$|$82.21\\pm5.73$|$96.32\\pm5.68$|$80.61\\pm5.52$\n",
    "Time Comsumed   |90s           |144s          |300s          |696s"
   ]
  },
  {
   "cell_type": "markdown",
   "metadata": {},
   "source": [
    "### MrGreed Note in 2020 July\n",
    "\n",
    "MrGreed只看重眼前利益（这一圈的收益），不会用历史估计对手手牌（但是会考虑断章），也不会考虑自己之后怎么办。\n",
    "\n",
    "MrGreed是用递归的方法定义的，首先，如果他是最后一个出牌的，他可以按照他的价值观（BURDEN_DICT）知道自己该怎么打。\n",
    "如果他是倒数第二个则对可能的牌的分布采样，并假定最后一个人和自己打法一致，进而判断自己该怎么打。一直递归到第一个打的。\n",
    "\n",
    "MrGreed不会再把猪塞给队友了。MrGreed会部分地考虑队友的感受，比如该它打牌，知道队友断某一门，自己又有这一门最小的，他就会打这一门好舒缓队友的压力。\n",
    "\n",
    "MrGreed 在采样为10时对战 MrRandom，对战局数为256x4时, `0+2 - 1+3: 272.01 7.48`. MrGreed 在采样为10时对战 MrIf，对战局数为256x4时, `0+2 - 1+3: 70.78 8.41`.\n",
    "\n",
    "每次模拟挑选的可能数N是MrGreed的重要可调参数，理论上N越大MrGreed越强。\n",
    "为了研究N对MrGreed强弱的具体影响，改变不同的 N 让 MrGreed 和 MrIf 对战，记录他们的分差\n",
    "\n",
    "N     |5    |10   |20   |30   |40\n",
    "------|:---:|:---:|:---:|:---:|:-:\n",
    "vs If |63.6 |70.8 |80.8 |82.4 |太卡了，不可行\n",
    "Sigma |8.7  |8.4  |8.5  |8.3  |/\n",
    "\n",
    "发牌的抽样算法是速度的瓶颈，换用 发牌-交换 算法之后，对其强弱和速度测试如下。\n",
    "发牌-交换 算法是先随机发牌直到发到合法的，再在这个基础上不断交换获得一系列合法发牌的算法。\n",
    "可见“发牌-交换”算法让MrGreed变稳定了，但是变菜了，不过这个菜是可以用N的增加来弥补的。\n",
    "\n",
    "N     |5    |10   |20   |30   |40   |50   |60\n",
    "------|:---:|:---:|:---:|:---:|:---:|:---:|:-:\n",
    "vs If |51.8 |50.2 |68.61|74.9 |76.1 |86.5 |78.2\n",
    "Sigma |8.4  |8.3  |8.3  |8.4  |8.2  |8.0  |8.7\n",
    "t(s)  |34   |62   |117  |178  |223  |285  |343\n",
    "\n",
    "最早版本的MrGreed的价值观是不对的，现在做如下改进：1.C10的含义不再是-60而是真实的乘二；2.SA当猪已经打出就不在可怕。\n",
    "于是他就能：1.在自己得了羊并且红桃和猪打得差不多时主动去抢变压器；2.知道对手的某一个人有大负分，就把变压器给他；3.知道队友有更多负分，就主动得变压器；\n",
    "4.在猪已经出过的情况下不那么着急出手SA。理论上这会让他更强。我还更新了BURDEN_DICT，做了些调整。\n",
    "分数提高并不多，可能是在细枝末节优化意义不大，也可能是我哪里代码写错了，毕竟这部分不好实现，写错了但能跑也有可能。\n",
    "\n",
    "N     |5    |10   |20   |30\n",
    "------|:---:|:---:|:---:|:---:\n",
    "vs If |56.8 |60.0 |80.0 |86.2\n",
    "Sigma |8.5  |8.0  |7.7  |8.0\n",
    "t(s)  |44   |85   |166  |244\n",
    "\n",
    "再加入一些人类经验：开始时打短的，结果明显变强了。\n",
    "\n",
    "N     |5    |10   |20\n",
    "------|:---:|:---:|:---:\n",
    "vs If |57.7 |80.1 |96.5\n",
    "Sigma |7.9  |8.1  |8.0\n",
    "\n",
    "再改进：自己有猪时猪圈也淡然处之.没变强也没变弱吧。\n",
    "\n",
    "N     |5    |10   |20\n",
    "------|:---:|:---:|:---:\n",
    "vs If |72.7 |81.1 |89.3\n",
    "Sigma |7.9  |7.9  |7.7"
   ]
  },
  {
   "cell_type": "code",
   "execution_count": null,
   "metadata": {},
   "outputs": [],
   "source": []
  }
 ],
 "metadata": {
  "kernelspec": {
   "display_name": "Python 3",
   "language": "python",
   "name": "python3"
  },
  "language_info": {
   "codemirror_mode": {
    "name": "ipython",
    "version": 3
   },
   "file_extension": ".py",
   "mimetype": "text/x-python",
   "name": "python",
   "nbconvert_exporter": "python",
   "pygments_lexer": "ipython3",
   "version": "3.6.9"
  }
 },
 "nbformat": 4,
 "nbformat_minor": 2
}
