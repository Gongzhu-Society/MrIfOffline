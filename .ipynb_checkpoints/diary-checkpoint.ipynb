{
 "cells": [
  {
   "cell_type": "markdown",
   "metadata": {},
   "source": [
    "### Github commands\n",
    "\n",
    "```\n",
    "git add -uv\n",
    "git commit -av\n",
    "```\n",
    "\n",
    "v: verbose\n",
    "u: update\n"
   ]
  },
  {
   "cell_type": "markdown",
   "metadata": {},
   "source": [
    "### 2020 Nov 1th\n",
    "\n",
    "Try to organize legacy codes. Organized: Util, OfflineInterface, MrRandom, MrIf, MrNN. MrGreed and MrNN_Trainer are to be read.\n",
    "\n",
    "### 2020 Nov 6th\n",
    "\n",
    "Understaned MrGreed, added detailed comments, tested its ability. Combating with MrIf, N_SAMPLE=20, MrGreed can win $85.26\\pm8.09$.\n",
    "\n",
    "### 2020 Nov 7th\n",
    "\n",
    "Finally realized MrO, a Q-learning AI.\n",
    "\n",
    "### 2020 Nov 17th\n",
    "\n",
    "Before alternating sampling algorithm, do the last benchmark for MrGreed."
   ]
  },
  {
   "cell_type": "code",
   "execution_count": 39,
   "metadata": {},
   "outputs": [
    {
     "data": {
      "text/plain": [
       "tensor([[0.5842, 0.1489, 0.4029, 0.8812, 0.2712, 0.0397, 0.6437],\n",
       "        [0.5812, 0.6712, 0.5259, 0.9764, 0.4828, 0.5855, 0.2223]])"
      ]
     },
     "execution_count": 39,
     "metadata": {},
     "output_type": "execute_result"
    }
   ],
   "source": [
    "import torch\n",
    "import torch.nn as nn\n",
    "import torch.nn.functional as F\n",
    "a=torch.rand(2,3)\n",
    "b=torch.rand(2,4)\n",
    "torch.cat([a,b],1)"
   ]
  },
  {
   "cell_type": "code",
   "execution_count": null,
   "metadata": {},
   "outputs": [],
   "source": []
  }
 ],
 "metadata": {
  "kernelspec": {
   "display_name": "Python 3",
   "language": "python",
   "name": "python3"
  },
  "language_info": {
   "codemirror_mode": {
    "name": "ipython",
    "version": 3
   },
   "file_extension": ".py",
   "mimetype": "text/x-python",
   "name": "python",
   "nbconvert_exporter": "python",
   "pygments_lexer": "ipython3",
   "version": "3.6.9"
  }
 },
 "nbformat": 4,
 "nbformat_minor": 2
}
