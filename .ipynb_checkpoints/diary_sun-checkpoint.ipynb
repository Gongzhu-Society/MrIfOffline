{
 "cells": [
  {
   "cell_type": "markdown",
   "id": "grand-startup",
   "metadata": {},
   "source": [
    "### 2021 Mar 30th\n",
    "\n",
    "刚刚写好的 alpha-beta 剪枝在 https://github.com/Gongzhu-Society/MCTS 的 alphabeta 分支中，注意不是默认分支。\n",
    "\n",
    "https://github.com/Gongzhu-Society/MCTS/tree/alphabeta#alpha-beta-pruning 有一个简单的用法说明\n",
    "\n",
    "下次有空应该把估值函数中变压器的问题解决，是时候解决这个历史遗留 bug 了。\n",
    "\n",
    "### 2021 Apr 1th\n",
    "\n",
    "alphabeta pruning 已经写入 MrZeroTreeSimple。算分函数的 C10 问题也解决了。更新在 MrIfOffline 的 alphabeta 分支中，在github上合并再拉取即可。注意合并时看一下我改了哪里。\n",
    "\n",
    "我还改了 four_cards_oh 中 diffuse 的 index，所以之前的神经网络不能用了，而且由于 52 变成了 54,所以 prepare_ohs 对齐输入的部分要调整。\n",
    "\n",
    "在我的 1650 上测试，sample_b/k保持之前的 5/0，search_deep=2，打64x2局用了58min，43(16)，而mcts在只搜索一层时是37(之前的数据)。原来MCTS在2080Ti上打512x2用了14min。变慢了，32倍。\n",
    "\n",
    "原来的程序在1650上占用率应该有50%，现在的ab剪纸只有可怜的8%，说明它内存和cpu开销更高，这解释了为什么这么慢。之后再改吧。\n",
    "\n",
    "ScenarioGen曾经有一个排列组合的问题我也改过来了。\n",
    "\n",
    "3070上的MCTS和SCenarioGen我都已经更新了。\n",
    "\n",
    "但是 benchmark 结果不理想，理论上讲，mctsk=1的mcts应该和deep=1的abpruning完全等价，但实际情况却是\n",
    "\n",
    "MCTS(mcts_k=1, sample_b=5)|abpruning(deep=1)|deep=2     |deep=3\n",
    ":------------------------:|:---------------:|:---------:|:---------:\n",
    "35.39(4.86)               |24.46(4.71)      |40.41(4.75)|31.94(4.45)\n",
    "\n",
    "测试使用的投icml的37分的网络和\"StdHands/random_0_1024.hands\". 说明有奇偶层的问题。"
   ]
  },
  {
   "cell_type": "markdown",
   "id": "demanding-begin",
   "metadata": {},
   "source": [
    "### 2021 Apr 2th\n",
    "\n",
    "完成 MrAbTree，最navie的policy下，搜索2墩，对MrGreed 256局：-70.59 9.32\n",
    "\n",
    "加入更多人类经验在policy函数中，引入类似于MrGreed的burden（其实就是复制粘贴），表现更差了，说明代码有给对手打牌的问题。\n",
    "\n",
    "### 2021 Apr 3th\n",
    "\n",
    "昨天“加入更多人类经验”的版本是写出了bug，这回改对了。仍然用\"StdHands/random_0_1024.hands\"测试，注意时间是在10850K上的。\n",
    "\n",
    "deep=2      |deep=1      |4 greeds\n",
    ":----------:|:----------:|:------:\n",
    "47.81(17.41)|13.07(8.91) |-\n",
    "(38+2)/64   |(137+17)/256|-\n",
    "76min/64    |398s/256    |84s/256"
   ]
  },
  {
   "cell_type": "code",
   "execution_count": null,
   "id": "sublime-botswana",
   "metadata": {},
   "outputs": [],
   "source": []
  }
 ],
 "metadata": {
  "kernelspec": {
   "display_name": "Python 3",
   "language": "python",
   "name": "python3"
  },
  "language_info": {
   "codemirror_mode": {
    "name": "ipython",
    "version": 3
   },
   "file_extension": ".py",
   "mimetype": "text/x-python",
   "name": "python",
   "nbconvert_exporter": "python",
   "pygments_lexer": "ipython3",
   "version": "3.8.5"
  }
 },
 "nbformat": 4,
 "nbformat_minor": 5
}
