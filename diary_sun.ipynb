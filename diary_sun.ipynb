{
 "cells": [
  {
   "cell_type": "markdown",
   "id": "metallic-september",
   "metadata": {},
   "source": [
    "### 2021 Mar 30th\n",
    "\n",
    "刚刚写好的 alpha-beta 剪枝在 https://github.com/Gongzhu-Society/MCTS 的 alphabeta 分支中，注意不是默认分支。\n",
    "\n",
    "https://github.com/Gongzhu-Society/MCTS/tree/alphabeta#alpha-beta-pruning 有一个简单的用法说明\n",
    "\n",
    "下次有空应该把估值函数中变压器的问题解决，是时候解决这个历史遗留 bug 了。\n",
    "\n",
    "### 2021 Apr 1th\n",
    "\n",
    "alphabeta pruning 已经写入 MrZeroTreeSimple。算分函数的 C10 问题也解决了。更新在 MrIfOffline 的 alphabeta 分支中，在github上合并再拉取即可。注意合并时看一下我改了哪里。\n",
    "\n",
    "我还改了 four_cards_oh 中 diffuse 的 index，所以之前的神经网络不能用了，而且由于 52 变成了 54,所以 prepare_ohs 对齐输入的部分要调整。\n",
    "\n",
    "在我的 1650 上测试，sample_b/k保持之前的 5/0，search_deep=2，打64x2局用了58min，43(16)，而mcts在只搜索一层时是37(之前的数据)。原来MCTS在2080Ti上打512x2用了14min。变慢了，32倍。\n",
    "\n",
    "原来的程序在1650上占用率应该有50%，现在的ab剪纸只有可怜的8%，说明它内存和cpu开销更高，这解释了为什么这么慢。之后再改吧。\n",
    "\n",
    "ScenarioGen曾经有一个排列组合的问题我也改过来了。\n",
    "\n",
    "3070上的MCTS和SCenarioGen我都已经更新了。\n",
    "\n",
    "但是 benchmark 结果不理想，理论上讲，mctsk=1的mcts应该和deep=1的abpruning完全等价，但实际情况却是\n",
    "\n",
    "MCTS(mcts_k=1, sample_b=5)|abpruning(deep=1)|deep=2     |\n",
    ":------------------------:|:---------------:|:---------:|\n",
    "35.39(4.86)               |24.46(4.71)      |40.41(4.75)|\n",
    "\n",
    "测试使用的投icml的37分的网络和\"StdHands/random_0_1024.hands\""
   ]
  },
  {
   "cell_type": "code",
   "execution_count": null,
   "id": "instrumental-trigger",
   "metadata": {},
   "outputs": [],
   "source": []
  }
 ],
 "metadata": {
  "kernelspec": {
   "display_name": "Python 3",
   "language": "python",
   "name": "python3"
  },
  "language_info": {
   "codemirror_mode": {
    "name": "ipython",
    "version": 3
   },
   "file_extension": ".py",
   "mimetype": "text/x-python",
   "name": "python",
   "nbconvert_exporter": "python",
   "pygments_lexer": "ipython3",
   "version": "3.8.5"
  }
 },
 "nbformat": 4,
 "nbformat_minor": 5
}
